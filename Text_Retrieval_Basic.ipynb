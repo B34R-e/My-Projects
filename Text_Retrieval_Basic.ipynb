{
  "nbformat": 4,
  "nbformat_minor": 0,
  "metadata": {
    "colab": {
      "provenance": [],
      "authorship_tag": "ABX9TyOvisZ5KebaSRBb4lYpCqCL",
      "include_colab_link": true
    },
    "kernelspec": {
      "name": "python3",
      "display_name": "Python 3"
    },
    "language_info": {
      "name": "python"
    },
    "widgets": {
      "application/vnd.jupyter.widget-state+json": {
        "a102c67c2acb45809b30499db137be6c": {
          "model_module": "@jupyter-widgets/controls",
          "model_name": "HBoxModel",
          "model_module_version": "1.5.0",
          "state": {
            "_dom_classes": [],
            "_model_module": "@jupyter-widgets/controls",
            "_model_module_version": "1.5.0",
            "_model_name": "HBoxModel",
            "_view_count": null,
            "_view_module": "@jupyter-widgets/controls",
            "_view_module_version": "1.5.0",
            "_view_name": "HBoxView",
            "box_style": "",
            "children": [
              "IPY_MODEL_aec31159d1aa4079a2b561b2fecdd654",
              "IPY_MODEL_10e63d4f184446ff9e5fa107037af75d",
              "IPY_MODEL_19530885c0624613820183f8945ec8b3"
            ],
            "layout": "IPY_MODEL_f5b1d9a8179742f3abb0b1435ed950cc"
          }
        },
        "aec31159d1aa4079a2b561b2fecdd654": {
          "model_module": "@jupyter-widgets/controls",
          "model_name": "HTMLModel",
          "model_module_version": "1.5.0",
          "state": {
            "_dom_classes": [],
            "_model_module": "@jupyter-widgets/controls",
            "_model_module_version": "1.5.0",
            "_model_name": "HTMLModel",
            "_view_count": null,
            "_view_module": "@jupyter-widgets/controls",
            "_view_module_version": "1.5.0",
            "_view_name": "HTMLView",
            "description": "",
            "description_tooltip": null,
            "layout": "IPY_MODEL_d5b9e3f3dd5e4a85b42421497b5a6e90",
            "placeholder": "​",
            "style": "IPY_MODEL_175d470840da4e5b99f2d2d4499af4cd",
            "value": "100%"
          }
        },
        "10e63d4f184446ff9e5fa107037af75d": {
          "model_module": "@jupyter-widgets/controls",
          "model_name": "FloatProgressModel",
          "model_module_version": "1.5.0",
          "state": {
            "_dom_classes": [],
            "_model_module": "@jupyter-widgets/controls",
            "_model_module_version": "1.5.0",
            "_model_name": "FloatProgressModel",
            "_view_count": null,
            "_view_module": "@jupyter-widgets/controls",
            "_view_module_version": "1.5.0",
            "_view_name": "ProgressView",
            "bar_style": "success",
            "description": "",
            "description_tooltip": null,
            "layout": "IPY_MODEL_5e6d5d7cb7bd4fc7b20a2d2890be9e36",
            "max": 3,
            "min": 0,
            "orientation": "horizontal",
            "style": "IPY_MODEL_2f977b57ba1c47e1967ade26f23ca2a5",
            "value": 3
          }
        },
        "19530885c0624613820183f8945ec8b3": {
          "model_module": "@jupyter-widgets/controls",
          "model_name": "HTMLModel",
          "model_module_version": "1.5.0",
          "state": {
            "_dom_classes": [],
            "_model_module": "@jupyter-widgets/controls",
            "_model_module_version": "1.5.0",
            "_model_name": "HTMLModel",
            "_view_count": null,
            "_view_module": "@jupyter-widgets/controls",
            "_view_module_version": "1.5.0",
            "_view_name": "HTMLView",
            "description": "",
            "description_tooltip": null,
            "layout": "IPY_MODEL_025a2680505346baac2f845948ac4853",
            "placeholder": "​",
            "style": "IPY_MODEL_d0877c990102483fa33e6eeb4b493c63",
            "value": " 3/3 [00:00&lt;00:00, 65.76it/s]"
          }
        },
        "f5b1d9a8179742f3abb0b1435ed950cc": {
          "model_module": "@jupyter-widgets/base",
          "model_name": "LayoutModel",
          "model_module_version": "1.2.0",
          "state": {
            "_model_module": "@jupyter-widgets/base",
            "_model_module_version": "1.2.0",
            "_model_name": "LayoutModel",
            "_view_count": null,
            "_view_module": "@jupyter-widgets/base",
            "_view_module_version": "1.2.0",
            "_view_name": "LayoutView",
            "align_content": null,
            "align_items": null,
            "align_self": null,
            "border": null,
            "bottom": null,
            "display": null,
            "flex": null,
            "flex_flow": null,
            "grid_area": null,
            "grid_auto_columns": null,
            "grid_auto_flow": null,
            "grid_auto_rows": null,
            "grid_column": null,
            "grid_gap": null,
            "grid_row": null,
            "grid_template_areas": null,
            "grid_template_columns": null,
            "grid_template_rows": null,
            "height": null,
            "justify_content": null,
            "justify_items": null,
            "left": null,
            "margin": null,
            "max_height": null,
            "max_width": null,
            "min_height": null,
            "min_width": null,
            "object_fit": null,
            "object_position": null,
            "order": null,
            "overflow": null,
            "overflow_x": null,
            "overflow_y": null,
            "padding": null,
            "right": null,
            "top": null,
            "visibility": null,
            "width": null
          }
        },
        "d5b9e3f3dd5e4a85b42421497b5a6e90": {
          "model_module": "@jupyter-widgets/base",
          "model_name": "LayoutModel",
          "model_module_version": "1.2.0",
          "state": {
            "_model_module": "@jupyter-widgets/base",
            "_model_module_version": "1.2.0",
            "_model_name": "LayoutModel",
            "_view_count": null,
            "_view_module": "@jupyter-widgets/base",
            "_view_module_version": "1.2.0",
            "_view_name": "LayoutView",
            "align_content": null,
            "align_items": null,
            "align_self": null,
            "border": null,
            "bottom": null,
            "display": null,
            "flex": null,
            "flex_flow": null,
            "grid_area": null,
            "grid_auto_columns": null,
            "grid_auto_flow": null,
            "grid_auto_rows": null,
            "grid_column": null,
            "grid_gap": null,
            "grid_row": null,
            "grid_template_areas": null,
            "grid_template_columns": null,
            "grid_template_rows": null,
            "height": null,
            "justify_content": null,
            "justify_items": null,
            "left": null,
            "margin": null,
            "max_height": null,
            "max_width": null,
            "min_height": null,
            "min_width": null,
            "object_fit": null,
            "object_position": null,
            "order": null,
            "overflow": null,
            "overflow_x": null,
            "overflow_y": null,
            "padding": null,
            "right": null,
            "top": null,
            "visibility": null,
            "width": null
          }
        },
        "175d470840da4e5b99f2d2d4499af4cd": {
          "model_module": "@jupyter-widgets/controls",
          "model_name": "DescriptionStyleModel",
          "model_module_version": "1.5.0",
          "state": {
            "_model_module": "@jupyter-widgets/controls",
            "_model_module_version": "1.5.0",
            "_model_name": "DescriptionStyleModel",
            "_view_count": null,
            "_view_module": "@jupyter-widgets/base",
            "_view_module_version": "1.2.0",
            "_view_name": "StyleView",
            "description_width": ""
          }
        },
        "5e6d5d7cb7bd4fc7b20a2d2890be9e36": {
          "model_module": "@jupyter-widgets/base",
          "model_name": "LayoutModel",
          "model_module_version": "1.2.0",
          "state": {
            "_model_module": "@jupyter-widgets/base",
            "_model_module_version": "1.2.0",
            "_model_name": "LayoutModel",
            "_view_count": null,
            "_view_module": "@jupyter-widgets/base",
            "_view_module_version": "1.2.0",
            "_view_name": "LayoutView",
            "align_content": null,
            "align_items": null,
            "align_self": null,
            "border": null,
            "bottom": null,
            "display": null,
            "flex": null,
            "flex_flow": null,
            "grid_area": null,
            "grid_auto_columns": null,
            "grid_auto_flow": null,
            "grid_auto_rows": null,
            "grid_column": null,
            "grid_gap": null,
            "grid_row": null,
            "grid_template_areas": null,
            "grid_template_columns": null,
            "grid_template_rows": null,
            "height": null,
            "justify_content": null,
            "justify_items": null,
            "left": null,
            "margin": null,
            "max_height": null,
            "max_width": null,
            "min_height": null,
            "min_width": null,
            "object_fit": null,
            "object_position": null,
            "order": null,
            "overflow": null,
            "overflow_x": null,
            "overflow_y": null,
            "padding": null,
            "right": null,
            "top": null,
            "visibility": null,
            "width": null
          }
        },
        "2f977b57ba1c47e1967ade26f23ca2a5": {
          "model_module": "@jupyter-widgets/controls",
          "model_name": "ProgressStyleModel",
          "model_module_version": "1.5.0",
          "state": {
            "_model_module": "@jupyter-widgets/controls",
            "_model_module_version": "1.5.0",
            "_model_name": "ProgressStyleModel",
            "_view_count": null,
            "_view_module": "@jupyter-widgets/base",
            "_view_module_version": "1.2.0",
            "_view_name": "StyleView",
            "bar_color": null,
            "description_width": ""
          }
        },
        "025a2680505346baac2f845948ac4853": {
          "model_module": "@jupyter-widgets/base",
          "model_name": "LayoutModel",
          "model_module_version": "1.2.0",
          "state": {
            "_model_module": "@jupyter-widgets/base",
            "_model_module_version": "1.2.0",
            "_model_name": "LayoutModel",
            "_view_count": null,
            "_view_module": "@jupyter-widgets/base",
            "_view_module_version": "1.2.0",
            "_view_name": "LayoutView",
            "align_content": null,
            "align_items": null,
            "align_self": null,
            "border": null,
            "bottom": null,
            "display": null,
            "flex": null,
            "flex_flow": null,
            "grid_area": null,
            "grid_auto_columns": null,
            "grid_auto_flow": null,
            "grid_auto_rows": null,
            "grid_column": null,
            "grid_gap": null,
            "grid_row": null,
            "grid_template_areas": null,
            "grid_template_columns": null,
            "grid_template_rows": null,
            "height": null,
            "justify_content": null,
            "justify_items": null,
            "left": null,
            "margin": null,
            "max_height": null,
            "max_width": null,
            "min_height": null,
            "min_width": null,
            "object_fit": null,
            "object_position": null,
            "order": null,
            "overflow": null,
            "overflow_x": null,
            "overflow_y": null,
            "padding": null,
            "right": null,
            "top": null,
            "visibility": null,
            "width": null
          }
        },
        "d0877c990102483fa33e6eeb4b493c63": {
          "model_module": "@jupyter-widgets/controls",
          "model_name": "DescriptionStyleModel",
          "model_module_version": "1.5.0",
          "state": {
            "_model_module": "@jupyter-widgets/controls",
            "_model_module_version": "1.5.0",
            "_model_name": "DescriptionStyleModel",
            "_view_count": null,
            "_view_module": "@jupyter-widgets/base",
            "_view_module_version": "1.2.0",
            "_view_name": "StyleView",
            "description_width": ""
          }
        }
      }
    }
  },
  "cells": [
    {
      "cell_type": "markdown",
      "metadata": {
        "id": "view-in-github",
        "colab_type": "text"
      },
      "source": [
        "<a href=\"https://colab.research.google.com/github/B34R-e/My-Projects/blob/main/Text_Retrieval_Basic.ipynb\" target=\"_parent\"><img src=\"https://colab.research.google.com/assets/colab-badge.svg\" alt=\"Open In Colab\"/></a>"
      ]
    },
    {
      "cell_type": "code",
      "execution_count": 22,
      "metadata": {
        "colab": {
          "base_uri": "https://localhost:8080/"
        },
        "id": "h4SFzUs986_Y",
        "outputId": "f66a1d16-55e1-4dd8-a6e5-184e5a6fc9b9"
      },
      "outputs": [
        {
          "output_type": "stream",
          "name": "stdout",
          "text": [
            "Requirement already satisfied: datasets==2.13.1 in /usr/local/lib/python3.10/dist-packages (2.13.1)\n",
            "Requirement already satisfied: numpy>=1.17 in /usr/local/lib/python3.10/dist-packages (from datasets==2.13.1) (1.22.4)\n",
            "Requirement already satisfied: pyarrow>=8.0.0 in /usr/local/lib/python3.10/dist-packages (from datasets==2.13.1) (9.0.0)\n",
            "Requirement already satisfied: dill<0.3.7,>=0.3.0 in /usr/local/lib/python3.10/dist-packages (from datasets==2.13.1) (0.3.6)\n",
            "Requirement already satisfied: pandas in /usr/local/lib/python3.10/dist-packages (from datasets==2.13.1) (1.5.3)\n",
            "Requirement already satisfied: requests>=2.19.0 in /usr/local/lib/python3.10/dist-packages (from datasets==2.13.1) (2.27.1)\n",
            "Requirement already satisfied: tqdm>=4.62.1 in /usr/local/lib/python3.10/dist-packages (from datasets==2.13.1) (4.65.0)\n",
            "Requirement already satisfied: xxhash in /usr/local/lib/python3.10/dist-packages (from datasets==2.13.1) (3.2.0)\n",
            "Requirement already satisfied: multiprocess in /usr/local/lib/python3.10/dist-packages (from datasets==2.13.1) (0.70.14)\n",
            "Requirement already satisfied: fsspec[http]>=2021.11.1 in /usr/local/lib/python3.10/dist-packages (from datasets==2.13.1) (2023.6.0)\n",
            "Requirement already satisfied: aiohttp in /usr/local/lib/python3.10/dist-packages (from datasets==2.13.1) (3.8.4)\n",
            "Requirement already satisfied: huggingface-hub<1.0.0,>=0.11.0 in /usr/local/lib/python3.10/dist-packages (from datasets==2.13.1) (0.16.4)\n",
            "Requirement already satisfied: packaging in /usr/local/lib/python3.10/dist-packages (from datasets==2.13.1) (23.1)\n",
            "Requirement already satisfied: pyyaml>=5.1 in /usr/local/lib/python3.10/dist-packages (from datasets==2.13.1) (6.0)\n",
            "Requirement already satisfied: attrs>=17.3.0 in /usr/local/lib/python3.10/dist-packages (from aiohttp->datasets==2.13.1) (23.1.0)\n",
            "Requirement already satisfied: charset-normalizer<4.0,>=2.0 in /usr/local/lib/python3.10/dist-packages (from aiohttp->datasets==2.13.1) (2.0.12)\n",
            "Requirement already satisfied: multidict<7.0,>=4.5 in /usr/local/lib/python3.10/dist-packages (from aiohttp->datasets==2.13.1) (6.0.4)\n",
            "Requirement already satisfied: async-timeout<5.0,>=4.0.0a3 in /usr/local/lib/python3.10/dist-packages (from aiohttp->datasets==2.13.1) (4.0.2)\n",
            "Requirement already satisfied: yarl<2.0,>=1.0 in /usr/local/lib/python3.10/dist-packages (from aiohttp->datasets==2.13.1) (1.9.2)\n",
            "Requirement already satisfied: frozenlist>=1.1.1 in /usr/local/lib/python3.10/dist-packages (from aiohttp->datasets==2.13.1) (1.3.3)\n",
            "Requirement already satisfied: aiosignal>=1.1.2 in /usr/local/lib/python3.10/dist-packages (from aiohttp->datasets==2.13.1) (1.3.1)\n",
            "Requirement already satisfied: filelock in /usr/local/lib/python3.10/dist-packages (from huggingface-hub<1.0.0,>=0.11.0->datasets==2.13.1) (3.12.2)\n",
            "Requirement already satisfied: typing-extensions>=3.7.4.3 in /usr/local/lib/python3.10/dist-packages (from huggingface-hub<1.0.0,>=0.11.0->datasets==2.13.1) (4.7.1)\n",
            "Requirement already satisfied: urllib3<1.27,>=1.21.1 in /usr/local/lib/python3.10/dist-packages (from requests>=2.19.0->datasets==2.13.1) (1.26.16)\n",
            "Requirement already satisfied: certifi>=2017.4.17 in /usr/local/lib/python3.10/dist-packages (from requests>=2.19.0->datasets==2.13.1) (2023.5.7)\n",
            "Requirement already satisfied: idna<4,>=2.5 in /usr/local/lib/python3.10/dist-packages (from requests>=2.19.0->datasets==2.13.1) (3.4)\n",
            "Requirement already satisfied: python-dateutil>=2.8.1 in /usr/local/lib/python3.10/dist-packages (from pandas->datasets==2.13.1) (2.8.2)\n",
            "Requirement already satisfied: pytz>=2020.1 in /usr/local/lib/python3.10/dist-packages (from pandas->datasets==2.13.1) (2022.7.1)\n",
            "Requirement already satisfied: six>=1.5 in /usr/local/lib/python3.10/dist-packages (from python-dateutil>=2.8.1->pandas->datasets==2.13.1) (1.16.0)\n"
          ]
        }
      ],
      "source": [
        "!pip install datasets==2.13.1"
      ]
    },
    {
      "cell_type": "code",
      "source": [
        "from datasets import load_dataset\n",
        "\n",
        "dataset = load_dataset('ms_marco', 'v1.1')"
      ],
      "metadata": {
        "colab": {
          "base_uri": "https://localhost:8080/",
          "height": 86,
          "referenced_widgets": [
            "a102c67c2acb45809b30499db137be6c",
            "aec31159d1aa4079a2b561b2fecdd654",
            "10e63d4f184446ff9e5fa107037af75d",
            "19530885c0624613820183f8945ec8b3",
            "f5b1d9a8179742f3abb0b1435ed950cc",
            "d5b9e3f3dd5e4a85b42421497b5a6e90",
            "175d470840da4e5b99f2d2d4499af4cd",
            "5e6d5d7cb7bd4fc7b20a2d2890be9e36",
            "2f977b57ba1c47e1967ade26f23ca2a5",
            "025a2680505346baac2f845948ac4853",
            "d0877c990102483fa33e6eeb4b493c63"
          ]
        },
        "id": "XbpnSe1y-BqK",
        "outputId": "0f888122-adc8-41ed-d60e-015594a5d48a"
      },
      "execution_count": 23,
      "outputs": [
        {
          "output_type": "stream",
          "name": "stderr",
          "text": [
            "WARNING:datasets.builder:Found cached dataset ms_marco (/root/.cache/huggingface/datasets/ms_marco/v1.1/1.1.0/b6a62715fa5219aea5275dd3556601004cd63945cb63e36e022f77bb3cbbca84)\n"
          ]
        },
        {
          "output_type": "display_data",
          "data": {
            "text/plain": [
              "  0%|          | 0/3 [00:00<?, ?it/s]"
            ],
            "application/vnd.jupyter.widget-view+json": {
              "version_major": 2,
              "version_minor": 0,
              "model_id": "a102c67c2acb45809b30499db137be6c"
            }
          },
          "metadata": {}
        }
      ]
    },
    {
      "cell_type": "code",
      "source": [
        "# select a test sample\n",
        "subset = dataset['test']\n",
        "\n",
        "# declare a list contains related queries and documents\n",
        "queries_infos = []\n",
        "queries = []\n",
        "corpus = []\n",
        "\n",
        "# split the data\n",
        "# Duyet qua tung sample trong bo test duoc lay ra tu dataset va chi lay cac sample co cau truy van thuoc kieu 'entity'\n",
        "for sample in subset:\n",
        "  query_type = sample['query_type']\n",
        "  if query_type != 'entity':\n",
        "    continue\n",
        "  # Lay ra noi dung cau truy van va id cua chung\n",
        "  query_id = sample['query_id']\n",
        "  query_str = sample['query']\n",
        "  # Lay danh sach cac tai lieu va nhan tuong ung cua cau truy van\n",
        "  passages_dict = sample['passages']\n",
        "  is_selected_lst = passages_dict['is_selected']\n",
        "  passage_text_lst = passages_dict['passage_text']\n",
        "  # Khai bao mot dictionary chua cac thong tin cua cau truy van\n",
        "  query_info = {\n",
        "      'query_id': query_id,\n",
        "      'query': query_str,\n",
        "      'relevant_docs': []\n",
        "  }\n",
        "  # Tu danh sach cac tai lieu va nhan\n",
        "  # Chon cac tai lieu duoc gan co lien quan den cau truy van\n",
        "  # Dua vao key 'relevant_docs'\n",
        "  # Luu tru nhan duoi dang chi muc trong list corpus\n",
        "  current_len_corpus = len(corpus)\n",
        "  for idx in range(len(is_selected_lst)):\n",
        "    if is_selected_lst[idx] == 1:\n",
        "      doc_idx = current_len_corpus + idx\n",
        "      query_info['relevant_docs'].append(doc_idx)\n",
        "    # Bo qua cac sample khong chua tai lieu lien quan de thuan tien cho viec danh gia\n",
        "    if query_info['relevant_docs'] == []:\n",
        "      continue\n",
        "  # Dua thong tin cau truy van va tai lieu vao cac danh sanh da khai bao\n",
        "  queries.append(query_str)\n",
        "  queries_infos.append(query_info)\n",
        "  corpus += passage_text_lst"
      ],
      "metadata": {
        "id": "cALSmbxOClYA"
      },
      "execution_count": 24,
      "outputs": []
    },
    {
      "cell_type": "code",
      "source": [
        "# construct a normalize docs function\n",
        "# 4 abilities:\n",
        "# Lowercasing\n",
        "# Punctuations Removal\n",
        "# Stopwords Removal\n",
        "# Stemming (on English normalizing)\n",
        "\n",
        "# import module string trong Python\n",
        "import string\n",
        "# import thu vien nltk\n",
        "import nltk\n",
        "from nltk.corpus import stopwords\n",
        "from nltk.stem import PorterStemmer\n",
        "\n",
        "# tai bo stopwords cua tieng Anh ve va khai bao thanh list\n",
        "nltk.download('stopwords')\n",
        "english_stopwords = stopwords.words('english')\n",
        "# khai bao danh sach cac dau cau can xoa\n",
        "remove_chars = string.punctuation\n",
        "# Khai bao thuc the PorterStemmer\n",
        "stemmer = PorterStemmer()\n",
        "\n",
        "def tokenize(text):\n",
        "  return text.split()\n",
        "\n",
        "# Khai bao ham text_normalize voi tham so la text (string)\n",
        "def text_normalize(text):\n",
        "  text = text.lower()\n",
        "  for char in remove_chars:\n",
        "    text = text.replace(char, '')\n",
        "  text = ' '.join([word for word in tokenize(text) if word not in english_stopwords])\n",
        "  text = ' '.join([stemmer.stem(word) for word in tokenize(text)])\n",
        "\n",
        "  return text"
      ],
      "metadata": {
        "colab": {
          "base_uri": "https://localhost:8080/"
        },
        "id": "gIdhl8GLG4qr",
        "outputId": "c23c18f8-1b2d-4923-b171-3f3af07358f9"
      },
      "execution_count": 25,
      "outputs": [
        {
          "output_type": "stream",
          "name": "stderr",
          "text": [
            "[nltk_data] Downloading package stopwords to /root/nltk_data...\n",
            "[nltk_data]   Package stopwords is already up-to-date!\n"
          ]
        }
      ]
    },
    {
      "cell_type": "code",
      "source": [
        "# construct a corpus\n",
        "def create_dictionary(corpus):\n",
        "  dictionary = []\n",
        "  for doc in corpus:\n",
        "    normalized_doc = text_normalize(doc)\n",
        "    tokens = tokenize(normalized_doc)\n",
        "    for token in tokens:\n",
        "      if token not in dictionary:\n",
        "        dictionary.append(token)\n",
        "\n",
        "  return dictionary"
      ],
      "metadata": {
        "id": "YIEKGTVXK-sF"
      },
      "execution_count": 26,
      "outputs": []
    },
    {
      "cell_type": "code",
      "source": [
        "# construct a vectorization function to vectorize docs\n",
        "# Dau vao la string can vectorize va mot bo tu vung kieu list\n",
        "def vectorize(text, dictionary):\n",
        "  word_count_dict = {word: 0 for word in dictionary}\n",
        "  tokens = tokenize(text)\n",
        "  for token in tokens:\n",
        "    try:\n",
        "      word_count_dict[token] += 1\n",
        "    except:\n",
        "      pass\n",
        "  vector = list(word_count_dict.values())\n",
        "\n",
        "  return vector"
      ],
      "metadata": {
        "id": "0oUNosxuLm53"
      },
      "execution_count": 27,
      "outputs": []
    },
    {
      "cell_type": "code",
      "source": [
        "# construct document-term matrix\n",
        "# Dau vao la list cac tai lieu va list cac tu vung\n",
        "def create_doc_term_matrix(corpus, dictionary):\n",
        "  doc_term_matrix = {}\n",
        "  for idx, doc in enumerate(corpus):\n",
        "    normalized_doc = text_normalize(doc)\n",
        "    vector = vectorize(normalized_doc, dictionary)\n",
        "    doc_term_matrix[(doc, idx)] = vector\n",
        "\n",
        "  return doc_term_matrix"
      ],
      "metadata": {
        "id": "v06q0tI3MdKY"
      },
      "execution_count": 28,
      "outputs": []
    },
    {
      "cell_type": "code",
      "source": [
        "# Construct a similarity calculation function (use Cosine Similarity)\n",
        "from scipy import spatial\n",
        "def similarity(a, b):\n",
        "  return 1 - spatial.distance.cosine(a, b)"
      ],
      "metadata": {
        "id": "-ThIF632R9R8"
      },
      "execution_count": 29,
      "outputs": []
    },
    {
      "cell_type": "code",
      "source": [
        "# Construct a query function\n",
        "# Dau vao la cau truy van, bo tu vung va ma tran doc term\n",
        "def ranking(query, dictionary, doc_term_matrix):\n",
        "  normalized_query = text_normalize(query)\n",
        "  query_vec = vectorize(normalized_query, dictionary)\n",
        "  scores = []\n",
        "  for doc_info, doc_vec in doc_term_matrix.items():\n",
        "    sim = similarity(query_vec, doc_vec)\n",
        "    scores.append((sim, doc_info))\n",
        "\n",
        "  scores.sort(reverse=True)\n",
        "  return scores"
      ],
      "metadata": {
        "id": "gTlIIgbVShwz"
      },
      "execution_count": 31,
      "outputs": []
    },
    {
      "cell_type": "code",
      "source": [
        "# Test a query\n",
        "query_lst = ['what is the official language in Fiji ?']\n",
        "top_k = 10\n",
        "dictionary = create_dictionary(corpus)\n",
        "doc_term_matrix = create_doc_term_matrix(corpus, dictionary)\n",
        "for query in query_lst:\n",
        "  scores = ranking(query, dictionary, doc_term_matrix)\n",
        "  print(f'Query: {query}')\n",
        "  print(f'=== Relevant Docs ===')\n",
        "  for idx in range(top_k):\n",
        "    doc_score = scores[idx][0]\n",
        "    doc_content = scores[idx][1][0]\n",
        "\n",
        "    print(f'Top {idx + 1}; Score: {doc_score:.4f}')\n",
        "    print(doc_content)\n",
        "    print('\\n')"
      ],
      "metadata": {
        "colab": {
          "base_uri": "https://localhost:8080/"
        },
        "id": "A7p-ZnFZiGA3",
        "outputId": "53d2e301-4820-4e0d-f364-502bc7964eee"
      },
      "execution_count": 32,
      "outputs": [
        {
          "output_type": "stream",
          "name": "stdout",
          "text": [
            "Query: what is the official language in Fiji ?\n",
            "=== Relevant Docs ===\n",
            "Top 1; Score: 0.6556\n",
            "The official languages in Fiji are Fijian and English. A dialect of Hindustani is also widely spoken among Indo-Fijians.  _________________________________________   T … he official and everyday language of Fiji is English. Fijian and Fiji-Hindi are second languages in the island nation.\n",
            "\n",
            "\n",
            "Top 2; Score: 0.6556\n",
            "The official languages in Fiji are Fijian and English. A dialect of Hindustani is also widely spoken among Indo-Fijians.  _________________________________________   T … he official and everyday language of Fiji is English. Fijian and Fiji-Hindi are second languages in the island nation.\n",
            "\n",
            "\n",
            "Top 3; Score: 0.5715\n",
            "The official languages. Fiji’s 1997 Constitution established Fijian as one of the official languages of the country. Fijian is an Austronesian language, a grouping that includes thousands of other languages spanning the globe. The language is of the Malayo-Polynesian family, not too different from Hawaiian and Maori.\n",
            "\n",
            "\n",
            "Top 4; Score: 0.5604\n",
            "Of all the languages of Russia, Russian is the only official language. There are 35 different languages which are considered official languages in various regions of Russia, along with Russian. There are over 100 minority languages spoken in Russia today.\n",
            "\n",
            "\n",
            "Top 5; Score: 0.5592\n",
            "Finnish is one of two official languages of Finland (the other being Swedish, spoken by 5.42% of the population as of 2010) and an official language of the European Union. It enjoys the status of an official minority language in Sweden. It is one of the two official languages of Finland and an official minority language in Sweden. In Sweden, both standard Finnish and Meaenkieli, meänkieli A finnish, dialect are. Spoken The kven, language a dialect Of, finnish is spoken In Northern. norway\n",
            "\n",
            "\n",
            "Top 6; Score: 0.5307\n",
            "Liberia is a multilingual country where more than thirty languages are spoken. English is the official language. None of the languages group forms a distinctive majority. These languages can be grouped in four language families: Mande, Kru, Mel, and the divergent language Gola.\n",
            "\n",
            "\n",
            "Top 7; Score: 0.5164\n",
            "There are over 120 ethnic groups, each with its own language or dialect. Indigenous Tanzanians make up 99 % of the population, while other ethnic groups include Asians, Europeans and Arabs. KiSwahili is the official, universally-spoken language in Tanzania. English, also an official language, is the language of commerce.\n",
            "\n",
            "\n",
            "Top 8; Score: 0.5094\n",
            "the two official languages every country in the world has official languages that are spoken amongst the population these languages are generally what are fluently spoken by all residents in canada the two official languages are english and french alongside this 6 2 % of canadians stated that they only speak a language other than english or french at home the different languages of canada with over 200 different languages that are spoken throughout the country the list of different languages in canada would be extensive based on the most populated cities in the country below is a list of commonly spoken languages aside from english and french cantonese\n",
            "\n",
            "\n",
            "Top 9; Score: 0.4811\n",
            "Fiji Language. The Fijian language spoken in Fiji is a type of Austronesian langauge and is part of the Malayo-Polynesian family. The Austronesian languages are normally found among islands in continental and Southeast Asia along with islands in the Pacific.\n",
            "\n",
            "\n",
            "Top 10; Score: 0.4547\n",
            "Upon Uganda's independence in 1962, English was maintained as the official language, as it was already rooted deeply in administration, media, and education. Also, Uganda's ethnolinguistic diversity made it difficult to choose another language as the official language of Uganda. Forty of its living indigenous languages fall into three main families — Bantu, Nilotic, and Central Sudanic — with another two languages in the Kuliak family.\n",
            "\n",
            "\n"
          ]
        }
      ]
    },
    {
      "cell_type": "code",
      "source": [],
      "metadata": {
        "id": "ZDFMSR8MjQtj"
      },
      "execution_count": null,
      "outputs": []
    }
  ]
}