{
  "nbformat": 4,
  "nbformat_minor": 0,
  "metadata": {
    "colab": {
      "provenance": [],
      "gpuType": "T4",
      "authorship_tag": "ABX9TyO4PiIl98IuW5cfn4gUu8If",
      "include_colab_link": true
    },
    "kernelspec": {
      "name": "python3",
      "display_name": "Python 3"
    },
    "language_info": {
      "name": "python"
    },
    "accelerator": "GPU"
  },
  "cells": [
    {
      "cell_type": "markdown",
      "metadata": {
        "id": "view-in-github",
        "colab_type": "text"
      },
      "source": [
        "<a href=\"https://colab.research.google.com/github/B34R-e/My-Projects/blob/main/Sentence_Transformer_Text_Retrieval.ipynb\" target=\"_parent\"><img src=\"https://colab.research.google.com/assets/colab-badge.svg\" alt=\"Open In Colab\"/></a>"
      ]
    },
    {
      "cell_type": "code",
      "execution_count": null,
      "metadata": {
        "id": "uMtOISh9vZUN"
      },
      "outputs": [],
      "source": [
        "!pip install datasets sentence_transformers"
      ]
    },
    {
      "cell_type": "code",
      "source": [
        "from datasets import load_dataset\n",
        "\n",
        "dataset = load_dataset('ms_marco', 'v1.1')"
      ],
      "metadata": {
        "id": "xI_9is00vv75"
      },
      "execution_count": null,
      "outputs": []
    },
    {
      "cell_type": "code",
      "source": [
        "# select a test sample\n",
        "subset = dataset['test']\n",
        "\n",
        "# declare a list contains related queries and documents\n",
        "queries_infos = []\n",
        "queries = []\n",
        "corpus = []\n",
        "\n",
        "# split the data\n",
        "# Duyet qua tung sample trong bo test duoc lay ra tu dataset va chi lay cac sample co cau truy van thuoc kieu 'entity'\n",
        "for sample in subset:\n",
        "  query_type = sample['query_type']\n",
        "  if query_type != 'entity':\n",
        "    continue\n",
        "  # Lay ra noi dung cau truy van va id cua chung\n",
        "  query_id = sample['query_id']\n",
        "  query_str = sample['query']\n",
        "  # Lay danh sach cac tai lieu va nhan tuong ung cua cau truy van\n",
        "  passages_dict = sample['passages']\n",
        "  is_selected_lst = passages_dict['is_selected']\n",
        "  passage_text_lst = passages_dict['passage_text']\n",
        "  # Khai bao mot dictionary chua cac thong tin cua cau truy van\n",
        "  query_info = {\n",
        "      'query_id': query_id,\n",
        "      'query': query_str,\n",
        "      'relevant_docs': []\n",
        "  }\n",
        "  # Tu danh sach cac tai lieu va nhan\n",
        "  # Chon cac tai lieu duoc gan co lien quan den cau truy van\n",
        "  # Dua vao key 'relevant_docs'\n",
        "  # Luu tru nhan duoi dang chi muc trong list corpus\n",
        "  current_len_corpus = len(corpus)\n",
        "  for idx in range(len(is_selected_lst)):\n",
        "    if is_selected_lst[idx] == 1:\n",
        "      doc_idx = current_len_corpus + idx\n",
        "      query_info['relevant_docs'].append(doc_idx)\n",
        "    # Bo qua cac sample khong chua tai lieu lien quan de thuan tien cho viec danh gia\n",
        "    if query_info['relevant_docs'] == []:\n",
        "      continue\n",
        "  # Dua thong tin cau truy van va tai lieu vao cac danh sanh da khai bao\n",
        "  queries.append(query_str)\n",
        "  queries_infos.append(query_info)\n",
        "  corpus += passage_text_lst"
      ],
      "metadata": {
        "id": "j8Z7TOlgvkv8"
      },
      "execution_count": 3,
      "outputs": []
    },
    {
      "cell_type": "code",
      "source": [
        "import torch\n",
        "from sentence_transformers import SentenceTransformer\n",
        "\n",
        "model = SentenceTransformer('all-MiniLM-L6-v2')\n",
        "corpus_embeddings = model.encode(corpus, convert_to_tensor = True)"
      ],
      "metadata": {
        "id": "o65Tc8SIwYAE"
      },
      "execution_count": null,
      "outputs": []
    },
    {
      "cell_type": "markdown",
      "source": [
        "### **Custom Search Function**"
      ],
      "metadata": {
        "id": "CEavUCNUxJJE"
      }
    },
    {
      "cell_type": "code",
      "source": [
        "corpus_embeddings.shape\n",
        "print(len(corpus))\n",
        "print(len(corpus_embeddings))"
      ],
      "metadata": {
        "colab": {
          "base_uri": "https://localhost:8080/"
        },
        "id": "eZyOwOtkwpwo",
        "outputId": "8faca9fa-9357-4db3-bc40-47417126a3bd"
      },
      "execution_count": 9,
      "outputs": [
        {
          "output_type": "stream",
          "name": "stdout",
          "text": [
            "7486\n",
            "7486\n"
          ]
        }
      ]
    },
    {
      "cell_type": "code",
      "source": [
        "from sentence_transformers import util\n",
        "\n",
        "def similarity(query_embeddings, corpus_embeddings):\n",
        "  return util.cos_sim(query_embeddings, corpus_embeddings)[0]"
      ],
      "metadata": {
        "id": "5_PBkYb_xTYw"
      },
      "execution_count": 7,
      "outputs": []
    },
    {
      "cell_type": "code",
      "source": [
        "def ranking(query, top_k = 10):\n",
        "  query_embeddings = model.encode(query, convert_to_tensor = True)\n",
        "  cos_scores = similarity(query_embeddings, corpus_embeddings)\n",
        "\n",
        "  top_results = torch.topk(cos_scores, k = top_k)\n",
        "\n",
        "  return top_results"
      ],
      "metadata": {
        "id": "3cD_yEL9yCmI"
      },
      "execution_count": 8,
      "outputs": []
    },
    {
      "cell_type": "code",
      "source": [
        "custom_queries = ['what is the official language in Fiji']\n",
        "\n",
        "top_k = min(5, len(corpus))\n",
        "\n",
        "for query in custom_queries:\n",
        "  top_results = ranking(query, top_k)\n",
        "\n",
        "  print(f'Query: {query}')\n",
        "  print('\\n=================')\n",
        "  print(f'Top {top_k} most similar sentences in corpus:\\n')\n",
        "\n",
        "  for idx, (score, doc_idx) in enumerate(zip(top_results[0], top_results[1])):\n",
        "    print(f'Document rank {idx + 1}:')\n",
        "    print(corpus[doc_idx], f'\\n(Score: {score:.4f})', '\\n')"
      ],
      "metadata": {
        "colab": {
          "base_uri": "https://localhost:8080/"
        },
        "id": "-4EdjhnvyaxL",
        "outputId": "f20afe9a-c55e-4396-833d-0d25276357b4"
      },
      "execution_count": 23,
      "outputs": [
        {
          "output_type": "stream",
          "name": "stdout",
          "text": [
            "Query: what is the official language in Fiji\n",
            "\n",
            "=================\n",
            "Top 5 most similar sentences in corpus:\n",
            "\n",
            "Document rank 1:\n",
            "The official languages. Fiji’s 1997 Constitution established Fijian as one of the official languages of the country. Fijian is an Austronesian language, a grouping that includes thousands of other languages spanning the globe. The language is of the Malayo-Polynesian family, not too different from Hawaiian and Maori. \n",
            "(Score: 0.8663) \n",
            "\n",
            "Document rank 2:\n",
            "Fiji has three official languages under the 1997 constitution (and not revoked by the 2013 Constitution): English, Fijian and Hindi. Fijian is spoken either as a first or second language by indigenous Fijians who make up around 54% of the population. \n",
            "(Score: 0.8464) \n",
            "\n",
            "Document rank 3:\n",
            "The Republic of the Fiji Islands citizens speak British English. Fijian and Fiji-Hindi is the second language. Other major language that is taught in elementary/primary schools and high schools are Urdu and French. Urdu and French is never considered to be a benefit to the people of Fiji. \n",
            "(Score: 0.8211) \n",
            "\n",
            "Document rank 4:\n",
            "The Republic of the Fiji Islands citizens speak British English. Fijian and Fiji-Hindi is the second language. Other major language that is taught in elementary/primary school … s and high schools are Urdu and French. Urdu and French is never considered to be a benefit to the people of Fiji. \n",
            "(Score: 0.8147) \n",
            "\n",
            "Document rank 5:\n",
            "Fiji Language. The Fijian language spoken in Fiji is a type of Austronesian langauge and is part of the Malayo-Polynesian family. The Austronesian languages are normally found among islands in continental and Southeast Asia along with islands in the Pacific. \n",
            "(Score: 0.8087) \n",
            "\n"
          ]
        }
      ]
    },
    {
      "cell_type": "code",
      "source": [],
      "metadata": {
        "id": "xfcxl8NFzQS4"
      },
      "execution_count": null,
      "outputs": []
    }
  ]
}